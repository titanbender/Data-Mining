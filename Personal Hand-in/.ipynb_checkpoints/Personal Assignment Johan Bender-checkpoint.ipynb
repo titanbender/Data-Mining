{
 "cells": [
  {
   "cell_type": "markdown",
   "metadata": {},
   "source": [
    "## Data Mining Individual Assignment"
   ]
  },
  {
   "cell_type": "markdown",
   "metadata": {},
   "source": [
    "Questions for data set:\n",
    "\n",
    "- K-Means Analysis: What are the clusters for the students in terms of height and shoe size?\n",
    "- Aprori Algorithm: What are the programming that appear together often?\n",
    "- Desicion Tree: What are the best questions to ask to identify a female programmer?\n"
   ]
  },
  {
   "cell_type": "code",
   "execution_count": 35,
   "metadata": {
    "collapsed": true
   },
   "outputs": [],
   "source": [
    "#load libraries for data analysis\n",
    "import numpy as np\n",
    "import pandas as pd\n",
    "import collections \n",
    "from sklearn.cluster import KMeans\n",
    "import matplotlib.pyplot as plt\n",
    "import numpy as np\n",
    "from __future__ import division\n"
   ]
  },
  {
   "cell_type": "code",
   "execution_count": 36,
   "metadata": {
    "collapsed": true
   },
   "outputs": [],
   "source": [
    "# Load data\n",
    "df = pd.read_csv(\"/Users/Bender/OneDrive /ITU/2ndsemester/Data Mining/Personal Hand-in/Data Mining - Spring 2017.csv\")"
   ]
  },
  {
   "cell_type": "markdown",
   "metadata": {},
   "source": [
    "## Step 1 - Cleaning Data"
   ]
  },
  {
   "cell_type": "code",
   "execution_count": 37,
   "metadata": {
    "collapsed": false
   },
   "outputs": [],
   "source": [
    "# cleaning height data\n",
    "newHeight = df['Height'].replace(['179cm'], 179)\n",
    "df['Height'] = newHeight"
   ]
  },
  {
   "cell_type": "code",
   "execution_count": 38,
   "metadata": {
    "collapsed": true
   },
   "outputs": [],
   "source": [
    "# cleaning shoe size data\n",
    "newShoeSize = df['Shoe Size'].str.replace(',','.')\n",
    "df['Shoe Size'] = newShoeSize"
   ]
  },
  {
   "cell_type": "code",
   "execution_count": 39,
   "metadata": {
    "collapsed": true
   },
   "outputs": [],
   "source": [
    "#cleaning gender data\n",
    "\n",
    "#clean male data\n",
    "newGenderMale = df['Gender'].replace(['Man','Male','M'], 'male')\n",
    "df['Gender'] = newGenderMale\n",
    "\n",
    "#clean female data\n",
    "newGenderFemale= df['Gender'].replace(['Female','F',], 'female')\n",
    "df['Gender'] = newGenderFemale"
   ]
  },
  {
   "cell_type": "code",
   "execution_count": 40,
   "metadata": {
    "collapsed": true
   },
   "outputs": [],
   "source": [
    "# Unique answers to programming language \n",
    "unique_language = list(set(df[\"Which programming languages do you know?\"]))"
   ]
  },
  {
   "cell_type": "code",
   "execution_count": 41,
   "metadata": {
    "collapsed": true
   },
   "outputs": [],
   "source": [
    "#cleaning programming language data\n",
    "\n",
    "#Javascript\n",
    "Javascript = df['Which programming languages do you know?'].replace(['Javascript'], 'javascript')\n",
    "df['Which programming languages do you know?'] = Javascript\n",
    "\n",
    "#Java\n",
    "Java = df['Which programming languages do you know?'].replace(['Java', 'JAVA'], 'java')\n",
    "df['Which programming languages do you know?'] = Java\n",
    "\n",
    "#Csharp\n",
    "Csharp = df['Which programming languages do you know?'].replace(['C#'], 'c#')\n",
    "df['Which programming languages do you know?'] = Csharp\n",
    "\n",
    "#C++\n",
    "Cplus = df['Which programming languages do you know?'].replace(['C++'], 'c++')\n",
    "df['Which programming languages do you know?'] = Csharp\n",
    "\n",
    "#Pascal\n",
    "Pascal = df['Which programming languages do you know?'].replace(['Pascal'], 'pascal')\n",
    "df['Which programming languages do you know?'] = Pascal\n",
    "\n",
    "#PHP\n",
    "PHP = df['Which programming languages do you know?'].replace(['PHP'], 'php')\n",
    "df['Which programming languages do you know?'] = PHP\n",
    "\n",
    "#Python\n",
    "Python = df['Which programming languages do you know?'].replace(['Python'], 'python')\n",
    "df['Which programming languages do you know?'] = Python\n",
    "\n",
    "#Golang\n",
    "Golang = df['Which programming languages do you know?'].replace(['Golang'], 'golang')\n",
    "df['Which programming languages do you know?'] = Golang\n",
    "\n",
    "#SQL\n",
    "SQL = df['Which programming languages do you know?'].replace(['SQL'], 'sql')\n",
    "df['Which programming languages do you know?'] = SQL"
   ]
  },
  {
   "cell_type": "code",
   "execution_count": 42,
   "metadata": {
    "collapsed": false,
    "scrolled": true
   },
   "outputs": [],
   "source": [
    "# Number of entities in our data\n",
    "dataSize = len(df)\n",
    "\n",
    "#Identify indexes in the csv file that upholds specific data criterea \n",
    "valid_obs = [ii for ii in range(0,dataSize) if df['Age'][ii] > 9 and      \n",
    "                                            df['Age'][ii] < 99 and\n",
    "                                            float(df['Height'][ii]) > 100 and\n",
    "                                            float(df['Height'][ii]) < 230 and\n",
    "                                            float(df['Shoe Size'][ii]) < 60 and\n",
    "                                            float(df['Shoe Size'][ii]) > 30] "
   ]
  },
  {
   "cell_type": "code",
   "execution_count": 43,
   "metadata": {
    "collapsed": false
   },
   "outputs": [],
   "source": [
    "# Apply the valid indexes to the original list\n",
    "df = df.loc[valid_obs]"
   ]
  },
  {
   "cell_type": "markdown",
   "metadata": {},
   "source": [
    "## Step 2 - Clustering Analysis"
   ]
  },
  {
   "cell_type": "code",
   "execution_count": 49,
   "metadata": {
    "collapsed": false
   },
   "outputs": [
    {
     "name": "stdout",
     "output_type": "stream",
     "text": [
      "[39.0, 49.0, 41.0, 43.0, 43.0, 44.0, 45.0, 42.5, 40.0, 40.0, 46.0, 43.0, 46.0, 42.0, 46.0, 36.0, 45.0, 41.0, 41.0, 43.0, 45.0, 46.0, 45.0, 46.0, 45.0, 44.5, 43.0, 42.0, 42.0, 45.0, 45.0, 45.0, 44.0, 42.0, 44.0, 45.0, 37.0, 41.0, 40.0, 42.5, 38.0, 43.0, 44.0, 44.0, 40.5, 39.0, 43.0, 37.0, 42.0, 40.0, 43.0, 42.0, 42.0, 42.0, 43.0, 41.0, 40.0, 42.0, 44.0, 42.0, 45.0, 42.0, 37.0]\n"
     ]
    }
   ],
   "source": [
    "# Create list for shoe size and height \n",
    "shoeSizeList = list(df['Shoe Size'])\n",
    "shoeSizeList = [float(shoe) for shoe in shoeSizeList]\n",
    "\n",
    "heightList = list(df['Height'])\n",
    "heightList = [float(height) for height in heightList]\n",
    "\n",
    "print shoeSizeList"
   ]
  },
  {
   "cell_type": "code",
   "execution_count": null,
   "metadata": {
    "collapsed": true
   },
   "outputs": [],
   "source": []
  },
  {
   "cell_type": "code",
   "execution_count": 26,
   "metadata": {
    "collapsed": false
   },
   "outputs": [
    {
     "ename": "TypeError",
     "evalue": "unsupported operand type(s) for -: 'str' and 'str'",
     "output_type": "error",
     "traceback": [
      "\u001b[0;31m---------------------------------------------------------------------------\u001b[0m",
      "\u001b[0;31mTypeError\u001b[0m                                 Traceback (most recent call last)",
      "\u001b[0;32m<ipython-input-26-08ba37995a1c>\u001b[0m in \u001b[0;36m<module>\u001b[0;34m()\u001b[0m\n\u001b[1;32m      6\u001b[0m         \u001b[0mtmp\u001b[0m\u001b[0;34m.\u001b[0m\u001b[0mappend\u001b[0m\u001b[0;34m(\u001b[0m\u001b[0my\u001b[0m\u001b[0;34m)\u001b[0m\u001b[0;34m\u001b[0m\u001b[0m\n\u001b[1;32m      7\u001b[0m \u001b[0;34m\u001b[0m\u001b[0m\n\u001b[0;32m----> 8\u001b[0;31m \u001b[0mnormalize\u001b[0m\u001b[0;34m(\u001b[0m\u001b[0mshoeSizeList\u001b[0m\u001b[0;34m)\u001b[0m\u001b[0;34m\u001b[0m\u001b[0m\n\u001b[0m",
      "\u001b[0;32m<ipython-input-26-08ba37995a1c>\u001b[0m in \u001b[0;36mnormalize\u001b[0;34m(list)\u001b[0m\n\u001b[1;32m      3\u001b[0m     \u001b[0mtmp\u001b[0m \u001b[0;34m=\u001b[0m \u001b[0;34m[\u001b[0m\u001b[0;34m]\u001b[0m\u001b[0;34m\u001b[0m\u001b[0m\n\u001b[1;32m      4\u001b[0m     \u001b[0;32mfor\u001b[0m \u001b[0mx\u001b[0m \u001b[0;32min\u001b[0m \u001b[0mlist\u001b[0m\u001b[0;34m:\u001b[0m\u001b[0;34m\u001b[0m\u001b[0m\n\u001b[0;32m----> 5\u001b[0;31m         \u001b[0my\u001b[0m \u001b[0;34m=\u001b[0m \u001b[0;34m(\u001b[0m\u001b[0mx\u001b[0m \u001b[0;34m-\u001b[0m \u001b[0mmin\u001b[0m\u001b[0;34m(\u001b[0m\u001b[0mlist\u001b[0m\u001b[0;34m)\u001b[0m\u001b[0;34m)\u001b[0m\u001b[0;34m/\u001b[0m\u001b[0;34m(\u001b[0m\u001b[0mmax\u001b[0m\u001b[0;34m(\u001b[0m\u001b[0mlist\u001b[0m\u001b[0;34m)\u001b[0m\u001b[0;34m-\u001b[0m\u001b[0mmin\u001b[0m\u001b[0;34m(\u001b[0m\u001b[0mlist\u001b[0m\u001b[0;34m)\u001b[0m\u001b[0;34m)\u001b[0m\u001b[0;34m\u001b[0m\u001b[0m\n\u001b[0m\u001b[1;32m      6\u001b[0m         \u001b[0mtmp\u001b[0m\u001b[0;34m.\u001b[0m\u001b[0mappend\u001b[0m\u001b[0;34m(\u001b[0m\u001b[0my\u001b[0m\u001b[0;34m)\u001b[0m\u001b[0;34m\u001b[0m\u001b[0m\n\u001b[1;32m      7\u001b[0m \u001b[0;34m\u001b[0m\u001b[0m\n",
      "\u001b[0;31mTypeError\u001b[0m: unsupported operand type(s) for -: 'str' and 'str'"
     ]
    }
   ],
   "source": [
    "# normalize data within the two categories \n",
    "def normalize(list):\n",
    "    tmp = []\n",
    "    for x in list:\n",
    "        y = (x - min(list))/(max(list)-min(list))\n",
    "        tmp.append(y)\n",
    "\n",
    "normalize(shoeSizeList)"
   ]
  },
  {
   "cell_type": "code",
   "execution_count": null,
   "metadata": {
    "collapsed": true
   },
   "outputs": [],
   "source": []
  },
  {
   "cell_type": "code",
   "execution_count": null,
   "metadata": {
    "collapsed": true
   },
   "outputs": [],
   "source": []
  },
  {
   "cell_type": "code",
   "execution_count": 22,
   "metadata": {
    "collapsed": true
   },
   "outputs": [],
   "source": [
    "# prepare data inside touples for the clustering function\n",
    "X = [[shoeSizeList[ii], heightList[ii]] for ii in range(0,len(heightList))]"
   ]
  },
  {
   "cell_type": "code",
   "execution_count": 21,
   "metadata": {
    "collapsed": false
   },
   "outputs": [],
   "source": [
    "class KMeans:\n",
    "    #performs k-means clustering\n",
    "    def __init__(self, k):\n",
    "        self.k = k # number of clusters \n",
    "        self.means = None # means of clusters\n",
    "        \n",
    "    def classify(self, input):\n",
    "    #return the index of the cluster closest to the input\n",
    "        return min(range(self.k),\n",
    "            key=lambda i: squared_distance(input, self.means[i]))\n",
    "    \n",
    "    def train(self, inputs):\n",
    "        # choose k random points as the initial means \n",
    "        self.means = random.sample(inputs, self.k) \n",
    "        assignments = None\n",
    "        \n",
    "        while True:\n",
    "            # Find new assignments\n",
    "            new_assignments = map(self.classify, inputs)\n",
    "            \n",
    "            # If no assignments have changed, we're done.\n",
    "            if assignments == new_assignments: \n",
    "                return\n",
    "            # Otherwise keep the new assignments,\n",
    "            assignments = new_assignments\n",
    "            \n",
    "            # And compute new means based on the new assignments\n",
    "            for i in range(self.k):\n",
    "            \n",
    "                # find all the points assigned to cluster i\n",
    "                i_points = [p for p, a in zip(inputs, assignments) if a == i]\n",
    "            \n",
    "                # make sure i_points is not empty so don't divide by 0\n",
    "                if i_points:\n",
    "                    self.means[i] = vector_mean(i_points)"
   ]
  },
  {
   "cell_type": "code",
   "execution_count": 11,
   "metadata": {
    "collapsed": false
   },
   "outputs": [],
   "source": [
    "# train K-means with 2 clusters\n",
    "k = 2\n",
    "kmeans = KMeans(n_clusters=k, random_state=0).fit(X)"
   ]
  },
  {
   "cell_type": "code",
   "execution_count": 12,
   "metadata": {
    "collapsed": true
   },
   "outputs": [],
   "source": [
    "clusterDic = {i: np.where(kmeans.labels_ == i)[0] for i in range(kmeans.n_clusters)}"
   ]
  },
  {
   "cell_type": "code",
   "execution_count": 13,
   "metadata": {
    "collapsed": true
   },
   "outputs": [],
   "source": [
    "cluster1 = []\n",
    "for x in clusterDic[0]:\n",
    "    cluster1.append(x)\n",
    "\n",
    "cluster2 = []\n",
    "for x in clusterDic[1]:\n",
    "    cluster2.append(x)\n",
    "    "
   ]
  },
  {
   "cell_type": "code",
   "execution_count": 14,
   "metadata": {
    "collapsed": false
   },
   "outputs": [
    {
     "ename": "KeyError",
     "evalue": "2",
     "output_type": "error",
     "traceback": [
      "\u001b[0;31m---------------------------------------------------------------------------\u001b[0m",
      "\u001b[0;31mKeyError\u001b[0m                                  Traceback (most recent call last)",
      "\u001b[0;32m<ipython-input-14-15d07aa250e8>\u001b[0m in \u001b[0;36m<module>\u001b[0;34m()\u001b[0m\n\u001b[1;32m      3\u001b[0m \u001b[0mplot1\u001b[0m \u001b[0;34m=\u001b[0m \u001b[0;34m[\u001b[0m\u001b[0mX\u001b[0m\u001b[0;34m[\u001b[0m\u001b[0mx\u001b[0m\u001b[0;34m]\u001b[0m \u001b[0;32mfor\u001b[0m \u001b[0mx\u001b[0m \u001b[0;32min\u001b[0m \u001b[0mclusterDic\u001b[0m\u001b[0;34m[\u001b[0m\u001b[0;36m0\u001b[0m\u001b[0;34m]\u001b[0m\u001b[0;34m]\u001b[0m\u001b[0;34m\u001b[0m\u001b[0m\n\u001b[1;32m      4\u001b[0m \u001b[0mplot2\u001b[0m \u001b[0;34m=\u001b[0m \u001b[0;34m[\u001b[0m\u001b[0mX\u001b[0m\u001b[0;34m[\u001b[0m\u001b[0mx\u001b[0m\u001b[0;34m]\u001b[0m \u001b[0;32mfor\u001b[0m \u001b[0mx\u001b[0m \u001b[0;32min\u001b[0m \u001b[0mclusterDic\u001b[0m\u001b[0;34m[\u001b[0m\u001b[0;36m1\u001b[0m\u001b[0;34m]\u001b[0m\u001b[0;34m]\u001b[0m\u001b[0;34m\u001b[0m\u001b[0m\n\u001b[0;32m----> 5\u001b[0;31m \u001b[0mplot3\u001b[0m \u001b[0;34m=\u001b[0m \u001b[0;34m[\u001b[0m\u001b[0mX\u001b[0m\u001b[0;34m[\u001b[0m\u001b[0mx\u001b[0m\u001b[0;34m]\u001b[0m \u001b[0;32mfor\u001b[0m \u001b[0mx\u001b[0m \u001b[0;32min\u001b[0m \u001b[0mclusterDic\u001b[0m\u001b[0;34m[\u001b[0m\u001b[0;36m2\u001b[0m\u001b[0;34m]\u001b[0m\u001b[0;34m]\u001b[0m\u001b[0;34m\u001b[0m\u001b[0m\n\u001b[0m\u001b[1;32m      6\u001b[0m \u001b[0;34m\u001b[0m\u001b[0m\n\u001b[1;32m      7\u001b[0m \u001b[0mdicPlot1\u001b[0m\u001b[0;34m=\u001b[0m \u001b[0;34m{\u001b[0m\u001b[0;34m}\u001b[0m\u001b[0;34m\u001b[0m\u001b[0m\n",
      "\u001b[0;31mKeyError\u001b[0m: 2"
     ]
    }
   ],
   "source": [
    "#create the list which includes the coordinates\n",
    "import matplotlib.pyplot as plt\n",
    "plot1 = [X[x] for x in clusterDic[0]]\n",
    "plot2 = [X[x] for x in clusterDic[1]]\n",
    "plot3 = [X[x] for x in clusterDic[2]]\n",
    "\n",
    "dicPlot1= {}\n",
    "dicPlot1['X'] = []\n",
    "dicPlot1['Y'] = []\n",
    "for x in plot1:\n",
    "        dicPlot1['X'].append(float(x[0]))\n",
    "        dicPlot1['Y'].append(float(x[1]))\n",
    "\n",
    "dicPlot2 = {}\n",
    "dicPlot2['X'] = []\n",
    "dicPlot2['Y'] = []\n",
    "for x in plot2:\n",
    "        dicPlot2['X'].append(float(x[0]))\n",
    "        dicPlot2['Y'].append(float(x[1]))\n",
    "    \n",
    "# dicPlot3 = {}\n",
    "# dicPlot3['X'] = []\n",
    "# dicPlot3['Y'] = []\n",
    "# for x in plot3:\n",
    "#         dicPlot3['X'].append(float(x[0]))\n",
    "#         dicPlot3['Y'].append(float(x[1]))"
   ]
  },
  {
   "cell_type": "code",
   "execution_count": null,
   "metadata": {
    "collapsed": true
   },
   "outputs": [],
   "source": [
    "plt.close('All')\n",
    "#Now we're ready to plot in the data including x and y coordinates for the prostitution clusters\n",
    "f, map = plt.subplots(1, 1)\n",
    "map.scatter(dicPlot1['X'], dicPlot1['Y'], alpha=0.3, color='r')\n",
    "map.scatter(dicPlot2['X'], dicPlot2['Y'], alpha=0.3, color='b')\n",
    "map.scatter(dicPlot3['X'], dicPlot3['Y'], alpha=0.3, color='g')\n",
    "plt.show(map)"
   ]
  }
 ],
 "metadata": {
  "kernelspec": {
   "display_name": "Python 2",
   "language": "python",
   "name": "python2"
  },
  "language_info": {
   "codemirror_mode": {
    "name": "ipython",
    "version": 2
   },
   "file_extension": ".py",
   "mimetype": "text/x-python",
   "name": "python",
   "nbconvert_exporter": "python",
   "pygments_lexer": "ipython2",
   "version": "2.7.13"
  }
 },
 "nbformat": 4,
 "nbformat_minor": 2
}
