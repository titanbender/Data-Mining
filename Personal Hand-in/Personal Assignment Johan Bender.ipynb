{
 "cells": [
  {
   "cell_type": "markdown",
   "metadata": {},
   "source": [
    "## Data Mining Individual Assignment\n",
    "By Johan Bender Koch"
   ]
  },
  {
   "cell_type": "markdown",
   "metadata": {},
   "source": [
    "Questions for data set:\n",
    "\n",
    "- K-Means Analysis: What are the two groupings of data in terms of height and shoe size?\n",
    "- Aprori Algorithm: What are the programming languages that often appear together?\n",
    "- Desicion Tree: What are the best questions to ask to identify a female student?\n"
   ]
  },
  {
   "cell_type": "code",
   "execution_count": 2,
   "metadata": {
    "collapsed": false
   },
   "outputs": [],
   "source": [
    "#load libraries for data analysis\n",
    "import numpy as np\n",
    "import pandas as pd\n",
    "import collections \n",
    "import matplotlib.pyplot as plt\n",
    "import numpy as np\n",
    "from __future__ import division\n",
    "import random\n",
    "from collections import defaultdict\n",
    "from collections import Counter\n",
    "import math\n",
    "import itertools"
   ]
  },
  {
   "cell_type": "code",
   "execution_count": 3,
   "metadata": {
    "collapsed": false
   },
   "outputs": [],
   "source": [
    "# Load data\n",
    "df = pd.read_csv(\"/Users/Bender/OneDrive /ITU/2ndsemester/Data Mining/Personal Hand-in/Data Mining - Spring 2017.csv\")"
   ]
  },
  {
   "cell_type": "code",
   "execution_count": 4,
   "metadata": {
    "collapsed": false
   },
   "outputs": [
    {
     "data": {
      "text/html": [
       "<div>\n",
       "<table border=\"1\" class=\"dataframe\">\n",
       "  <thead>\n",
       "    <tr style=\"text-align: right;\">\n",
       "      <th></th>\n",
       "      <th>Timestamp</th>\n",
       "      <th>Age</th>\n",
       "      <th>Gender</th>\n",
       "      <th>Shoe Size</th>\n",
       "      <th>Height</th>\n",
       "      <th>What degree are you studying?</th>\n",
       "      <th>Why are you taking this course?</th>\n",
       "      <th>Which programming languages do you know?</th>\n",
       "      <th>Which phone OS do you prefer?</th>\n",
       "      <th>Which topics would you prefer to learn in this course? [Design efficient databases for large amounts of data]</th>\n",
       "      <th>...</th>\n",
       "      <th>In which order do you normally traverse these ITU locations?  [14 checkpoint]</th>\n",
       "      <th>In which order do you normally traverse these ITU locations?  [15 checkpoint]</th>\n",
       "      <th>Write four (4) random numbers between 0 and 15</th>\n",
       "      <th>therb fortt glag</th>\n",
       "      <th>Pick a number</th>\n",
       "      <th>Favorite film?</th>\n",
       "      <th>Favorite TV-Show</th>\n",
       "      <th>Favorite Game</th>\n",
       "      <th>Which row are you sitting/did you sit in during the introduction lecture?</th>\n",
       "      <th>Which seat are you sitting/did you sit on during the introduction lecture?</th>\n",
       "    </tr>\n",
       "  </thead>\n",
       "  <tbody>\n",
       "    <tr>\n",
       "      <th>0</th>\n",
       "      <td>2017/01/29 4:06:18 PM CET</td>\n",
       "      <td>34</td>\n",
       "      <td>male</td>\n",
       "      <td>34</td>\n",
       "      <td>34</td>\n",
       "      <td>GAMES-A</td>\n",
       "      <td>It may help me to find a job</td>\n",
       "      <td>34</td>\n",
       "      <td>iOS</td>\n",
       "      <td>Not interested</td>\n",
       "      <td>...</td>\n",
       "      <td>Basement</td>\n",
       "      <td>Basement</td>\n",
       "      <td>344</td>\n",
       "      <td>NaN</td>\n",
       "      <td>7</td>\n",
       "      <td>sdf</td>\n",
       "      <td>sdf</td>\n",
       "      <td>sdf</td>\n",
       "      <td>A</td>\n",
       "      <td>3</td>\n",
       "    </tr>\n",
       "    <tr>\n",
       "      <th>1</th>\n",
       "      <td>2017/01/29 7:09:48 PM CET</td>\n",
       "      <td>37</td>\n",
       "      <td>Female</td>\n",
       "      <td>39</td>\n",
       "      <td>169</td>\n",
       "      <td>SDT-DT</td>\n",
       "      <td>It may help me to find a job</td>\n",
       "      <td>Java; R;</td>\n",
       "      <td>iOS</td>\n",
       "      <td>Very interesting</td>\n",
       "      <td>...</td>\n",
       "      <td>Library</td>\n",
       "      <td>Basement</td>\n",
       "      <td>7, 0, 8, 5</td>\n",
       "      <td>Option 1</td>\n",
       "      <td>7</td>\n",
       "      <td>The Shining</td>\n",
       "      <td>The Simpsons</td>\n",
       "      <td>Sonic</td>\n",
       "      <td>none</td>\n",
       "      <td>none</td>\n",
       "    </tr>\n",
       "    <tr>\n",
       "      <th>2</th>\n",
       "      <td>2017/01/29 7:23:49 PM CET</td>\n",
       "      <td>24</td>\n",
       "      <td>Man</td>\n",
       "      <td>49</td>\n",
       "      <td>205</td>\n",
       "      <td>SDT-DT</td>\n",
       "      <td>I am interested in the subject</td>\n",
       "      <td>Java, SQL, Python</td>\n",
       "      <td>Android</td>\n",
       "      <td>Sounds interesting</td>\n",
       "      <td>...</td>\n",
       "      <td>Not at ITU</td>\n",
       "      <td>Not at ITU</td>\n",
       "      <td>4,5,1,10</td>\n",
       "      <td>NaN</td>\n",
       "      <td>Asparagus</td>\n",
       "      <td>The Arrival</td>\n",
       "      <td>Nature programs</td>\n",
       "      <td>Faster than light</td>\n",
       "      <td>c</td>\n",
       "      <td>0</td>\n",
       "    </tr>\n",
       "    <tr>\n",
       "      <th>3</th>\n",
       "      <td>2017/01/30 1:23:38 AM CET</td>\n",
       "      <td>29</td>\n",
       "      <td>Male</td>\n",
       "      <td>41</td>\n",
       "      <td>170</td>\n",
       "      <td>SDT-SE</td>\n",
       "      <td>I am interested in the subject</td>\n",
       "      <td>HTML, CSS, Java</td>\n",
       "      <td>Android</td>\n",
       "      <td>Not interested</td>\n",
       "      <td>...</td>\n",
       "      <td>Not at ITU</td>\n",
       "      <td>Not at ITU</td>\n",
       "      <td>2, 4, 8, 15</td>\n",
       "      <td>Option 1</td>\n",
       "      <td>13</td>\n",
       "      <td>A Clockwork Orange</td>\n",
       "      <td>Death Note</td>\n",
       "      <td>Assassin's Creed series</td>\n",
       "      <td>G</td>\n",
       "      <td>10</td>\n",
       "    </tr>\n",
       "    <tr>\n",
       "      <th>4</th>\n",
       "      <td>2017/01/30 7:35:13 AM CET</td>\n",
       "      <td>28</td>\n",
       "      <td>Male</td>\n",
       "      <td>43</td>\n",
       "      <td>176</td>\n",
       "      <td>SDT-DT</td>\n",
       "      <td>I am interested in the subject</td>\n",
       "      <td>Java, JavaScript</td>\n",
       "      <td>iOS</td>\n",
       "      <td>Sounds interesting</td>\n",
       "      <td>...</td>\n",
       "      <td>Not at ITU</td>\n",
       "      <td>Not at ITU</td>\n",
       "      <td>1, 3, 9, 14</td>\n",
       "      <td>Option 1</td>\n",
       "      <td>13</td>\n",
       "      <td>Jurassic Park</td>\n",
       "      <td>Westworld</td>\n",
       "      <td>Fifa</td>\n",
       "      <td>C</td>\n",
       "      <td>6</td>\n",
       "    </tr>\n",
       "  </tbody>\n",
       "</table>\n",
       "<p>5 rows × 45 columns</p>\n",
       "</div>"
      ],
      "text/plain": [
       "                   Timestamp  Age  Gender Shoe Size Height  \\\n",
       "0  2017/01/29 4:06:18 PM CET   34    male        34     34   \n",
       "1  2017/01/29 7:09:48 PM CET   37  Female        39    169   \n",
       "2  2017/01/29 7:23:49 PM CET   24     Man        49    205   \n",
       "3  2017/01/30 1:23:38 AM CET   29    Male        41    170   \n",
       "4  2017/01/30 7:35:13 AM CET   28    Male        43    176   \n",
       "\n",
       "  What degree are you studying? Why are you taking this course?  \\\n",
       "0                       GAMES-A    It may help me to find a job   \n",
       "1                        SDT-DT    It may help me to find a job   \n",
       "2                        SDT-DT  I am interested in the subject   \n",
       "3                        SDT-SE  I am interested in the subject   \n",
       "4                        SDT-DT  I am interested in the subject   \n",
       "\n",
       "  Which programming languages do you know? Which phone OS do you prefer?  \\\n",
       "0                                       34                           iOS   \n",
       "1                                 Java; R;                           iOS   \n",
       "2                        Java, SQL, Python                       Android   \n",
       "3                          HTML, CSS, Java                       Android   \n",
       "4                         Java, JavaScript                           iOS   \n",
       "\n",
       "  Which topics would you prefer to learn in this course? [Design efficient databases for large amounts of data]  \\\n",
       "0                                     Not interested                                                              \n",
       "1                                   Very interesting                                                              \n",
       "2                                 Sounds interesting                                                              \n",
       "3                                     Not interested                                                              \n",
       "4                                 Sounds interesting                                                              \n",
       "\n",
       "                                     ...                                      \\\n",
       "0                                    ...                                       \n",
       "1                                    ...                                       \n",
       "2                                    ...                                       \n",
       "3                                    ...                                       \n",
       "4                                    ...                                       \n",
       "\n",
       "  In which order do you normally traverse these ITU locations?  [14 checkpoint]  \\\n",
       "0                                           Basement                              \n",
       "1                                            Library                              \n",
       "2                                         Not at ITU                              \n",
       "3                                         Not at ITU                              \n",
       "4                                         Not at ITU                              \n",
       "\n",
       "  In which order do you normally traverse these ITU locations?  [15 checkpoint]  \\\n",
       "0                                           Basement                              \n",
       "1                                           Basement                              \n",
       "2                                         Not at ITU                              \n",
       "3                                         Not at ITU                              \n",
       "4                                         Not at ITU                              \n",
       "\n",
       "  Write four (4) random numbers between 0 and 15 therb fortt glag  \\\n",
       "0                                            344              NaN   \n",
       "1                                     7, 0, 8, 5         Option 1   \n",
       "2                                       4,5,1,10              NaN   \n",
       "3                                    2, 4, 8, 15         Option 1   \n",
       "4                                    1, 3, 9, 14         Option 1   \n",
       "\n",
       "  Pick a number       Favorite film? Favorite TV-Show  \\\n",
       "0             7                  sdf              sdf   \n",
       "1             7          The Shining     The Simpsons   \n",
       "2     Asparagus          The Arrival  Nature programs   \n",
       "3            13   A Clockwork Orange       Death Note   \n",
       "4            13        Jurassic Park        Westworld   \n",
       "\n",
       "             Favorite Game  \\\n",
       "0                      sdf   \n",
       "1                    Sonic   \n",
       "2        Faster than light   \n",
       "3  Assassin's Creed series   \n",
       "4                     Fifa   \n",
       "\n",
       "  Which row are you sitting/did you sit in during the introduction lecture?  \\\n",
       "0                                                  A                          \n",
       "1                                               none                          \n",
       "2                                                  c                          \n",
       "3                                                  G                          \n",
       "4                                                  C                          \n",
       "\n",
       "  Which seat are you sitting/did you sit on during the introduction lecture?  \n",
       "0                                                  3                          \n",
       "1                                               none                          \n",
       "2                                                  0                          \n",
       "3                                                 10                          \n",
       "4                                                  6                          \n",
       "\n",
       "[5 rows x 45 columns]"
      ]
     },
     "execution_count": 4,
     "metadata": {},
     "output_type": "execute_result"
    }
   ],
   "source": [
    "df.head()"
   ]
  },
  {
   "cell_type": "markdown",
   "metadata": {},
   "source": [
    "## Step 1 - Cleaning Data"
   ]
  },
  {
   "cell_type": "code",
   "execution_count": 5,
   "metadata": {
    "collapsed": false
   },
   "outputs": [],
   "source": [
    "# cleaning height data\n",
    "newHeight = df['Height'].replace(['179cm'], 179)\n",
    "df['Height'] = newHeight"
   ]
  },
  {
   "cell_type": "code",
   "execution_count": 6,
   "metadata": {
    "collapsed": true
   },
   "outputs": [],
   "source": [
    "# cleaning shoe size data\n",
    "newShoeSize = df['Shoe Size'].str.replace(',','.')\n",
    "df['Shoe Size'] = newShoeSize"
   ]
  },
  {
   "cell_type": "code",
   "execution_count": 7,
   "metadata": {
    "collapsed": true
   },
   "outputs": [],
   "source": [
    "#cleaning gender data\n",
    "\n",
    "#clean male data\n",
    "newGenderMale = df['Gender'].replace(['Man','Male','M'], 'male')\n",
    "df['Gender'] = newGenderMale\n",
    "\n",
    "#clean female data\n",
    "newGenderFemale= df['Gender'].replace(['Female','F',], 'female')\n",
    "df['Gender'] = newGenderFemale"
   ]
  },
  {
   "cell_type": "code",
   "execution_count": 8,
   "metadata": {
    "collapsed": false
   },
   "outputs": [],
   "source": [
    "# Clean answers to programming language \n",
    "newLan = df['Which programming languages do you know?'].replace(['Java; R;'], 'java r')\n",
    "df['Which programming languages do you know?'] = newLan\n",
    "\n",
    "# Clean answers to programming language \n",
    "newLan = df['Which programming languages do you know?'].replace(['javac++pythonc#'], 'javac c++ python c#')\n",
    "df['Which programming languages do you know?'] = newLan\n",
    "\n",
    "# Clean answers to programming language \n",
    "newLan = df['Which programming languages do you know?'].replace(['c#javaf#'], 'c# java f#')\n",
    "df['Which programming languages do you know?'] = newLan\n",
    "                                                                 \n",
    "# Changing the title of the data frame\n",
    "df = df.rename(columns = {'Which programming languages do you know?':'Programming Language'})\n",
    "\n",
    "# Changing the title of the data frame\n",
    "df = df.rename(columns = {'Which phone OS do you prefer?':'Favorite Mobile OS'})\n"
   ]
  },
  {
   "cell_type": "code",
   "execution_count": 9,
   "metadata": {
    "collapsed": false,
    "scrolled": true
   },
   "outputs": [],
   "source": [
    "# Number of entities in our data\n",
    "dataSize = len(df)\n",
    "\n",
    "# Identify indexes in the data set that meet certain thresholds\n",
    "valid_obs = [ii for ii in range(0,dataSize) if df['Age'][ii] > 9 and      \n",
    "                                            df['Age'][ii] < 99 and\n",
    "                                            float(df['Height'][ii]) > 100 and\n",
    "                                            float(df['Height'][ii]) < 230 and\n",
    "                                            float(df['Shoe Size'][ii]) < 60 and\n",
    "                                            float(df['Shoe Size'][ii]) > 30] "
   ]
  },
  {
   "cell_type": "code",
   "execution_count": 10,
   "metadata": {
    "collapsed": false
   },
   "outputs": [],
   "source": [
    "# Apply the valid indexes to the original data frame\n",
    "df = df.loc[valid_obs]"
   ]
  },
  {
   "cell_type": "markdown",
   "metadata": {},
   "source": [
    "## Step 2 - Clustering Analysis"
   ]
  },
  {
   "cell_type": "code",
   "execution_count": 11,
   "metadata": {
    "collapsed": false
   },
   "outputs": [],
   "source": [
    "# Create list for shoe size and height \n",
    "shoeSizeList = list(df['Shoe Size'])\n",
    "shoeSizeList = [float(shoe) for shoe in shoeSizeList]\n",
    "df['Shoe Size'] = shoeSizeList\n",
    "\n",
    "heightList = list(df['Height'])\n",
    "heightList = [float(height) for height in heightList]\n",
    "df['Height'] = heightList \n"
   ]
  },
  {
   "cell_type": "code",
   "execution_count": 12,
   "metadata": {
    "collapsed": false
   },
   "outputs": [],
   "source": [
    "# normalize data within the two categories \n",
    "def normalize(list):\n",
    "    tmp = []\n",
    "    for x in list:\n",
    "        y = (x - min(list))/(max(list)-min(list))\n",
    "        tmp.append(y)\n",
    "    return tmp\n",
    "    \n",
    "normalizeShoes = normalize(shoeSizeList)\n",
    "normalizeHeight = normalize(heightList)"
   ]
  },
  {
   "cell_type": "code",
   "execution_count": 13,
   "metadata": {
    "collapsed": false
   },
   "outputs": [],
   "source": [
    "# prepare list of height and shoe data for the clustering function\n",
    "clusterData = [[normalizeShoes[ii], normalizeHeight[ii]] for ii in range(0,len(heightList))]"
   ]
  },
  {
   "cell_type": "code",
   "execution_count": 12,
   "metadata": {
    "collapsed": true
   },
   "outputs": [],
   "source": [
    " def clustering(inputs, k):\n",
    "        clusters  = {}\n",
    "        # initialize random centroiods \n",
    "        meansOld = random.sample(inputs, k)\n",
    "        means = random.sample(inputs, k)\n",
    "        # check to see if the means has changed. If not, a local optimum has been identified\n",
    "        while not (set([tuple(x) for x in means]) == set([tuple(x) for x in meansOld])):    \n",
    "            meansOld = means\n",
    "            # Assign all observations again to clusters\n",
    "            clusters  = {}\n",
    "            for x in inputs:\n",
    "                # calculate the pythagorian distance between data points and the means\n",
    "                distance = [((x[0]-means[X][0])**2 + (x[1]-means[X][1])**2)**(0.5) for X in range(0,2)]\n",
    "                # evaluate which mean that is closest to the data point\n",
    "                if distance[0] > distance[1]:\n",
    "                    key = 1\n",
    "                else:\n",
    "                    key = 2\n",
    "                try:\n",
    "                    clusters[key].append(x)\n",
    "                except KeyError:\n",
    "                     clusters[key] = [x]\n",
    "            \n",
    "            # Reevaluate new means\n",
    "            newmeans = []\n",
    "            keys = sorted(clusters.keys())\n",
    "            for k in keys:\n",
    "                # calculate the means of the clusters\n",
    "                newmeans.append(np.mean(clusters[k], axis = 0))\n",
    "            means = newmeans\n",
    "        # return the means and clusters  \n",
    "        return(means, clusters)"
   ]
  },
  {
   "cell_type": "code",
   "execution_count": 13,
   "metadata": {
    "collapsed": false
   },
   "outputs": [],
   "source": [
    "# run clustering with KMeans of 2\n",
    "classifiedObs = clustering(clusterData, 2)"
   ]
  },
  {
   "cell_type": "code",
   "execution_count": 14,
   "metadata": {
    "collapsed": false
   },
   "outputs": [],
   "source": [
    "# create dictionaries with keys to the X and Y values from the two clusters\n",
    "dicPlot1= {}\n",
    "dicPlot1['X'] = []\n",
    "dicPlot1['Y'] = []\n",
    "for x in classifiedObs[1][1]:\n",
    "        # filtering the obs based on the cluster it belongs to\n",
    "        # tmp = clusterData[x]\n",
    "        dicPlot1['X'].append(float(x[0]))\n",
    "        dicPlot1['Y'].append(float(x[1]))\n",
    "\n",
    "dicPlot2 = {}\n",
    "dicPlot2['X'] = []\n",
    "dicPlot2['Y'] = []\n",
    "for x in classifiedObs[1][2]:\n",
    "        # filtering the obs based on the cluster it belongs to\n",
    "        # tmp = clusterData[x]\n",
    "        dicPlot2['X'].append(float(x[0]))\n",
    "        dicPlot2['Y'].append(float(x[1]))"
   ]
  },
  {
   "cell_type": "code",
   "execution_count": 15,
   "metadata": {
    "collapsed": false
   },
   "outputs": [
    {
     "data": {
      "image/png": "[encoded data removed]",
      "text/plain": [
       "<matplotlib.figure.Figure at 0x1110e04d0>"
      ]
     },
     "metadata": {},
     "output_type": "display_data"
    }
   ],
   "source": [
    "# plot data for x and y coordinates of the two clusters\n",
    "plt.close('All')\n",
    "f, scatter_map = plt.subplots(1, 1)\n",
    "# the clusters are given different colors to make it easier to visualize\n",
    "scatter_map.scatter(dicPlot1['X'], dicPlot1['Y'], alpha=0.3, color='r')\n",
    "scatter_map.scatter(dicPlot2['X'], dicPlot2['Y'], alpha=0.3, color='b')\n",
    "# the means are not plotted as they represent normalized data\n",
    "# map.scatter(dicMeans['X'], dicMeans['Y'], alpha=1, color='black')\n",
    "plt.show(scatter_map)"
   ]
  },
  {
   "cell_type": "markdown",
   "metadata": {},
   "source": [
    "From the plot, it is clear that the two clusters are centered around low and high values from shoe size and height. This supports the argument that the two attributes are correlated. Further, from the visualization it can be seen that the two attributes seem to have a linear relationship. "
   ]
  },
  {
   "cell_type": "markdown",
   "metadata": {},
   "source": [
    "## Step 3: Aprori Algorithm"
   ]
  },
  {
   "cell_type": "markdown",
   "metadata": {
    "collapsed": true
   },
   "source": [
    "To start the Aprori Algorithm, it is first required that you define the treshold for how many times a programming languages must appear in our questionaire (transactions) in order to be considered frequent. "
   ]
  },
  {
   "cell_type": "code",
   "execution_count": 16,
   "metadata": {
    "collapsed": false
   },
   "outputs": [
    {
     "data": {
      "text/plain": [
       "Counter({'': 4,\n",
       "         'android': 2,\n",
       "         'arduino': 2,\n",
       "         'bash': 1,\n",
       "         'batch': 1,\n",
       "         'c': 15,\n",
       "         'c#': 27,\n",
       "         'c##': 1,\n",
       "         'c#javaf#': 1,\n",
       "         'c++': 21,\n",
       "         'css': 4,\n",
       "         'erlang': 1,\n",
       "         'f#': 12,\n",
       "         'gml': 1,\n",
       "         'golang': 1,\n",
       "         'haskell': 2,\n",
       "         'haxe': 1,\n",
       "         'html': 5,\n",
       "         'html5': 1,\n",
       "         'java': 59,\n",
       "         'javac++pythonc#': 1,\n",
       "         'javascript': 19,\n",
       "         'js': 1,\n",
       "         'jvascript': 1,\n",
       "         'kotlin': 1,\n",
       "         'lua': 2,\n",
       "         'matlab': 2,\n",
       "         'pascal': 2,\n",
       "         'php': 7,\n",
       "         'powershell': 1,\n",
       "         'processing': 2,\n",
       "         'prolog': 1,\n",
       "         'puredata': 1,\n",
       "         'python': 21,\n",
       "         'r': 2,\n",
       "         'ruby': 1,\n",
       "         'scala': 5,\n",
       "         'sql': 4,\n",
       "         'swift': 1,\n",
       "         'vb': 1,\n",
       "         'vba': 2,\n",
       "         'vbnet': 1})"
      ]
     },
     "execution_count": 16,
     "metadata": {},
     "output_type": "execute_result"
    }
   ],
   "source": [
    "# to determine the threshold we use the collection counter to get an overview of how often the languages appear\n",
    "lan_lst = list(df['Programming Language'])\n",
    "\n",
    "new_count_lst = []\n",
    "new_lan_lst = []\n",
    "for lan in lan_lst:\n",
    "    lan = lan.lower()\n",
    "    lan = lan.replace(\",\" , \"\")\n",
    "    lan = lan.replace(\".\" , \"\")\n",
    "    lan = lan.replace(\";\" , \"\")\n",
    "    lan = lan.split(\" \")\n",
    "    new_lan_lst.append(lan)\n",
    "    for x in range(0,len(lan)):\n",
    "        new_count_lst.append(lan[x])\n",
    "        \n",
    "Counter(new_count_lst)"
   ]
  },
  {
   "cell_type": "markdown",
   "metadata": {
    "collapsed": true
   },
   "source": [
    "based upon this counter, the treshold for support is set to 19. After this screening, the languages are \n",
    "c#, c++, java, javascript and python\n",
    "the next step is to generate a list of all pairs of the frequent items:"
   ]
  },
  {
   "cell_type": "code",
   "execution_count": 17,
   "metadata": {
    "collapsed": false
   },
   "outputs": [
    {
     "name": "stdout",
     "output_type": "stream",
     "text": [
      "total number of combinations:  10.0\n"
     ]
    }
   ],
   "source": [
    "first_fqr_set = ['c#', 'c++', 'java', 'javascript', 'python']\n",
    "# total number of permutations of two items \n",
    "print \"total number of combinations: \",((math.factorial(5))/(math.factorial(3)*math.factorial(2))) "
   ]
  },
  {
   "cell_type": "code",
   "execution_count": 18,
   "metadata": {
    "collapsed": false
   },
   "outputs": [],
   "source": [
    "# calculating the possible combinations for sets of two\n",
    "second_fqr_set = [set for set in itertools.combinations(first_fqr_set, 2) ]\n",
    "# converting from tuples to list:\n",
    "programming_lst = [(lan) for lan in new_lan_lst]\n",
    "# converting from tuples to list:\n",
    "second_fqr_tpl = [tuple(fqr) for fqr in second_fqr_set]"
   ]
  },
  {
   "cell_type": "code",
   "execution_count": 19,
   "metadata": {
    "collapsed": false
   },
   "outputs": [
    {
     "name": "stdout",
     "output_type": "stream",
     "text": [
      "('c#', 'c++') appears:  18\n",
      "('c#', 'java') appears:  26\n",
      "('c#', 'javascript') appears:  12\n",
      "('c#', 'python') appears:  13\n",
      "('c++', 'java') appears:  20\n",
      "('c++', 'javascript') appears:  9\n",
      "('c++', 'python') appears:  9\n",
      "('java', 'javascript') appears:  18\n",
      "('java', 'python') appears:  19\n",
      "('javascript', 'python') appears:  10\n"
     ]
    }
   ],
   "source": [
    "# calculate the frequency of the sets of two\n",
    "for two_tpl in second_fqr_tpl:\n",
    "    counter = 0\n",
    "    for student in new_lan_lst:\n",
    "        # Test whether every element is in the other\n",
    "        if frozenset(two_tpl).intersection(student) == frozenset(two_tpl):\n",
    "            counter += 1\n",
    "        #print student\n",
    "    print two_tpl , \"appears: \", counter"
   ]
  },
  {
   "cell_type": "code",
   "execution_count": 20,
   "metadata": {
    "collapsed": true
   },
   "outputs": [],
   "source": [
    "#same procedure as before but with sets of three\n",
    "second_fqr_set = ['c#', 'c++', 'java', 'python']\n",
    "third_fqr_set = [set for set in itertools.combinations(second_fqr_set, 3) ]\n",
    "# converting from tuples to list:\n",
    "programming_lst = [(lan) for lan in new_lan_lst]\n",
    "# converting from tuples to list:\n",
    "third_fqr_tpl = [tuple(fqr) for fqr in third_fqr_set]"
   ]
  },
  {
   "cell_type": "code",
   "execution_count": 21,
   "metadata": {
    "collapsed": false
   },
   "outputs": [
    {
     "name": "stdout",
     "output_type": "stream",
     "text": [
      "('c#', 'c++', 'java') appears:  17\n",
      "('c#', 'c++', 'python') appears:  8\n",
      "('c#', 'java', 'python') appears:  12\n",
      "('c++', 'java', 'python') appears:  8\n"
     ]
    }
   ],
   "source": [
    "# calculate the frequency of the sets of three\n",
    "for three_tpl in third_fqr_tpl:\n",
    "    counter = 0\n",
    "    for student in new_lan_lst:\n",
    "        # Test whether every element in the set is in other.\n",
    "        if frozenset(three_tpl).intersection(student) == frozenset(three_tpl):\n",
    "            counter += 1\n",
    "        #print student\n",
    "    print three_tpl , \"appears: \", counter"
   ]
  },
  {
   "cell_type": "markdown",
   "metadata": {},
   "source": [
    "As seen from the results there are no frequents sets of three. That said, the set ('c#', 'c++', 'java') is really close."
   ]
  },
  {
   "cell_type": "markdown",
   "metadata": {},
   "source": [
    "## Step 4: Decision Tree"
   ]
  },
  {
   "cell_type": "markdown",
   "metadata": {},
   "source": [
    "The decision tree will be applied to determine the best questions to ask in order to predict if a student is female "
   ]
  },
  {
   "cell_type": "code",
   "execution_count": 22,
   "metadata": {
    "collapsed": false
   },
   "outputs": [],
   "source": [
    "# build the data structure for the decision tree\n",
    "attribute_list = [\"Age\", \"Shoe Size\", \"Height\", \n",
    "                 \"Favorite Mobile OS\"]\n",
    "\n",
    "# prepares data for the decision tree. All attributes for each observations are saved inside a dictionary stored\n",
    "# inside a tuple that contains a boolean value: False for men and True for women\n",
    "\n",
    "inputs = []\n",
    "for obs in range (0,len(df)):\n",
    "    tmp_dic = {}\n",
    "    with_bool = []\n",
    "    for attr in attribute_list:\n",
    "        tmp_dic[attr] = list(df[attr])[obs]\n",
    "    \n",
    "    # appends True or False at the end of the tuple depending on the gender\n",
    "    if list(df['Gender'])[obs] == \"male\":\n",
    "        with_bool = tmp_dic, False\n",
    "    else:\n",
    "        with_bool = tmp_dic, True\n",
    "    inputs.append(with_bool)  "
   ]
  },
  {
   "cell_type": "code",
   "execution_count": 23,
   "metadata": {
    "collapsed": false
   },
   "outputs": [],
   "source": [
    "def partition_by(inputs, attribute):\n",
    "    # each input is a pair of attributes and values\n",
    "    groups = defaultdict(list)\n",
    "    for input in inputs:\n",
    "        key = input[0][attribute]\n",
    "        groups[key].append(input) \n",
    "    return groups"
   ]
  },
  {
   "cell_type": "code",
   "execution_count": 24,
   "metadata": {
    "collapsed": false
   },
   "outputs": [],
   "source": [
    "# calculates the entropy corresponding to the inputs\n",
    "def partition_entropy_by(inputs, attribute):\n",
    "    partitions = partition_by(inputs, attribute)\n",
    "    return partition_entropy(partitions.values())\n",
    "\n",
    "# finds the entropy from this partition of data into subsets \n",
    "def partition_entropy(subsets):\n",
    "    total_count = sum(len(subset) for subset in subsets)\n",
    "    return sum( data_entropy(subset) * len(subset) / total_count \n",
    "               for subset in subsets )\n",
    "\n",
    "# calculates the entropy of a list of class probabilities \n",
    "def entropy(class_probabilities):\n",
    "    return sum(-p * math.log(p, 2)\n",
    "        for p in class_probabilities\n",
    "        if p) # ignore zero probabilities\n",
    "\n",
    "\n",
    "# calculates the possible probabilities for each label\n",
    "def class_probabilities(labels): \n",
    "    total_count = len(labels) \n",
    "    return [count / total_count\n",
    "        for count in Counter(labels).values()]\n",
    "\n",
    "# calculates the entropy for each label\n",
    "def data_entropy(labeled_data):\n",
    "    labels = [label for _, label in labeled_data]\n",
    "    probabilities = class_probabilities(labels) \n",
    "    return entropy(probabilities)"
   ]
  },
  {
   "cell_type": "code",
   "execution_count": 25,
   "metadata": {
    "collapsed": false
   },
   "outputs": [
    {
     "name": "stdout",
     "output_type": "stream",
     "text": [
      "Age 0.430330486514\n",
      "Shoe Size 0.0770595709885\n",
      "Height 0.107220436542\n",
      "Favorite Mobile OS 0.549046207788\n"
     ]
    }
   ],
   "source": [
    "for key in attribute_list: \n",
    "    print key, partition_entropy_by(inputs, key)"
   ]
  },
  {
   "cell_type": "markdown",
   "metadata": {
    "collapsed": true
   },
   "source": [
    "From the entropy levels of each attributes, Shoe Size has the lowest entropy for the first split\n",
    "For Shoe Size > 40 all values are False (men)\n",
    "Therefore we want to determine what the best split is when Shoe Size is <= 40"
   ]
  },
  {
   "cell_type": "code",
   "execution_count": 26,
   "metadata": {
    "collapsed": false
   },
   "outputs": [
    {
     "name": "stdout",
     "output_type": "stream",
     "text": [
      "Age 0.39624062518\n",
      "Height 0.333333333333\n",
      "Favorite Mobile OS 0.8042903712\n"
     ]
    }
   ],
   "source": [
    "# shoe size is now predetermined\n",
    "shoe_size_input = [(input, label)\n",
    "    for input, label in inputs if input[\"Shoe Size\"] <= 40]\n",
    "\n",
    "for key in [\"Age\", \"Height\", 'Favorite Mobile OS']:\n",
    "    print key, partition_entropy_by(shoe_size_input, key)"
   ]
  },
  {
   "cell_type": "markdown",
   "metadata": {
    "collapsed": true
   },
   "source": [
    "For height > 172cm all values are False (men)\n",
    "Therefore we want to determine what the best split is when Height is =< 172 "
   ]
  },
  {
   "cell_type": "code",
   "execution_count": 27,
   "metadata": {
    "collapsed": false
   },
   "outputs": [
    {
     "name": "stdout",
     "output_type": "stream",
     "text": [
      "Age 0.181818181818\n",
      "Favorite Mobile OS 0.682706818575\n"
     ]
    }
   ],
   "source": [
    "# both shoe size and height are now predetermined\n",
    "shoe_size_height_input = [(input, label)\n",
    "    for input, label in inputs if input[\"Shoe Size\"] <= 40 and input[\"Height\"] <= 172 ] \n",
    "\n",
    "for key in [\"Age\", 'Favorite Mobile OS']:\n",
    "    print key, partition_entropy_by(shoe_size_height_input, key)"
   ]
  },
  {
   "cell_type": "markdown",
   "metadata": {},
   "source": [
    "for age > 25 all values are True (female)\n",
    "Therefore we want to determine what the best split is when Age is =< 25 "
   ]
  },
  {
   "cell_type": "code",
   "execution_count": 28,
   "metadata": {
    "collapsed": false
   },
   "outputs": [
    {
     "name": "stdout",
     "output_type": "stream",
     "text": [
      "Favorite Mobile OS 0.801377210634\n"
     ]
    }
   ],
   "source": [
    "# shoe size, height and age are now predetermined\n",
    "shoe_size_height_age_input = [(input, label)\n",
    "    for input, label in inputs if input[\"Shoe Size\"] <= 40 and input[\"Height\"] <= 172 and input[\"Age\"] <= 25] \n",
    "\n",
    "for key in ['Favorite Mobile OS']:\n",
    "    print key, partition_entropy_by(shoe_size_height_age_input, key)"
   ]
  },
  {
   "cell_type": "markdown",
   "metadata": {},
   "source": [
    "To conclude: For all given scenarios it is not possible to make a split given our input variables that determines if it the student is a female student. "
   ]
  }
 ],
 "metadata": {
  "kernelspec": {
   "display_name": "Python 2",
   "language": "python",
   "name": "python2"
  },
  "language_info": {
   "codemirror_mode": {
    "name": "ipython",
    "version": 2
   },
   "file_extension": ".py",
   "mimetype": "text/x-python",
   "name": "python",
   "nbconvert_exporter": "python",
   "pygments_lexer": "ipython2",
   "version": "2.7.13"
  }
 },
 "nbformat": 4,
 "nbformat_minor": 2
}
